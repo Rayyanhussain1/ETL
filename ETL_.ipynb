{
  "nbformat": 4,
  "nbformat_minor": 0,
  "metadata": {
    "colab": {
      "provenance": []
    },
    "kernelspec": {
      "name": "python3",
      "display_name": "Python 3"
    },
    "language_info": {
      "name": "python"
    }
  },
  "cells": [
    {
      "cell_type": "code",
      "source": [
        "pip install pandas numpy scikit-learn\n"
      ],
      "metadata": {
        "id": "kskSsv6MJb5y",
        "colab": {
          "base_uri": "https://localhost:8080/"
        },
        "outputId": "38db9d9f-9e63-4ee7-ae4b-fbaa48b4971b"
      },
      "execution_count": 1,
      "outputs": [
        {
          "output_type": "stream",
          "name": "stdout",
          "text": [
            "Requirement already satisfied: pandas in /usr/local/lib/python3.10/dist-packages (1.5.3)\n",
            "Requirement already satisfied: numpy in /usr/local/lib/python3.10/dist-packages (1.23.5)\n",
            "Requirement already satisfied: scikit-learn in /usr/local/lib/python3.10/dist-packages (1.2.2)\n",
            "Requirement already satisfied: python-dateutil>=2.8.1 in /usr/local/lib/python3.10/dist-packages (from pandas) (2.8.2)\n",
            "Requirement already satisfied: pytz>=2020.1 in /usr/local/lib/python3.10/dist-packages (from pandas) (2023.3.post1)\n",
            "Requirement already satisfied: scipy>=1.3.2 in /usr/local/lib/python3.10/dist-packages (from scikit-learn) (1.11.4)\n",
            "Requirement already satisfied: joblib>=1.1.1 in /usr/local/lib/python3.10/dist-packages (from scikit-learn) (1.3.2)\n",
            "Requirement already satisfied: threadpoolctl>=2.0.0 in /usr/local/lib/python3.10/dist-packages (from scikit-learn) (3.2.0)\n",
            "Requirement already satisfied: six>=1.5 in /usr/local/lib/python3.10/dist-packages (from python-dateutil>=2.8.1->pandas) (1.16.0)\n"
          ]
        }
      ]
    },
    {
      "cell_type": "code",
      "source": [
        "import sqlite3\n",
        "import pandas as pd\n",
        "from sklearn.model_selection import train_test_split\n",
        "from sklearn.ensemble import RandomForestClassifier\n",
        "from sklearn.metrics import accuracy_score"
      ],
      "metadata": {
        "id": "e5dX2mWJdVdz"
      },
      "execution_count": 2,
      "outputs": []
    },
    {
      "cell_type": "code",
      "execution_count": 3,
      "metadata": {
        "id": "leR_5c4WJO1e",
        "colab": {
          "base_uri": "https://localhost:8080/"
        },
        "outputId": "a9acb365-88a1-49ef-94c9-303d8185453e"
      },
      "outputs": [
        {
          "output_type": "stream",
          "name": "stdout",
          "text": [
            "Index(['Car_Name', 'Year', 'Selling_Price', 'Present_Price', 'Kms_Driven',\n",
            "       'Fuel_Type', 'Seller_Type', 'Transmission', 'Owner'],\n",
            "      dtype='object')\n",
            "  Car_Name  Year  Selling_Price  Present_Price  Kms_Driven Fuel_Type  \\\n",
            "0     ritz  2014           3.35           5.59       27000    Petrol   \n",
            "1      sx4  2013           4.75           9.54       43000    Diesel   \n",
            "2     ciaz  2017           7.25           9.85        6900    Petrol   \n",
            "3  wagon r  2011           2.85           4.15        5200    Petrol   \n",
            "4    swift  2014           4.60           6.87       42450    Diesel   \n",
            "\n",
            "  Seller_Type Transmission  Owner  \n",
            "0      Dealer       Manual      0  \n",
            "1      Dealer       Manual      0  \n",
            "2      Dealer       Manual      0  \n",
            "3      Dealer       Manual      0  \n",
            "4      Dealer       Manual      0  \n"
          ]
        }
      ],
      "source": [
        "import pandas as pd\n",
        "from sklearn.model_selection import train_test_split\n",
        "from sklearn.ensemble import RandomForestClassifier\n",
        "from sklearn.metrics import accuracy_score\n",
        "\n",
        "# Load the dataset\n",
        "file_path = 'car_prediction_data.csv'\n",
        "data = pd.read_csv(file_path)\n",
        "\n",
        "print(data.columns)\n",
        "\n",
        "# Show the first few rows to understand the data structure\n",
        "print(data.head())\n",
        "\n",
        "# Data preprocessing and transformation (example: dropping missing values)\n",
        "data.dropna(inplace=True)\n",
        "\n",
        "# Assuming the dataset has a target column named 'target' and features columns\n",
        "features = data.drop('Selling_Price', axis=1)\n",
        "target = data['Selling_Price']\n",
        "\n",
        "\n"
      ]
    },
    {
      "cell_type": "code",
      "source": [
        "from sklearn.ensemble import RandomForestRegressor\n",
        "from sklearn.metrics import mean_squared_error\n"
      ],
      "metadata": {
        "id": "GhxLZmdnMF0z"
      },
      "execution_count": 4,
      "outputs": []
    },
    {
      "cell_type": "code",
      "source": [
        "# Select columns excluding 'Car_Name' (assuming it's a non-numeric column)\n",
        "cols_to_use = ['Year', 'Selling_Price', 'Present_Price', 'Kms_Driven', 'Fuel_Type', 'Seller_Type', 'Transmission', 'Owner']\n",
        "\n",
        "# Extract data with selected columns\n",
        "data_selected = data[cols_to_use]\n",
        "\n",
        "# Data preprocessing: Convert 'Year' to Age\n",
        "data_selected['Age'] = 2024 - data_selected['Year']\n",
        "data_selected.drop('Year', axis=1, inplace=True)\n",
        "\n",
        "# Select categorical columns\n",
        "categorical_cols = ['Fuel_Type', 'Seller_Type', 'Transmission']\n",
        "\n",
        "# Perform one-hot encoding on categorical columns\n",
        "data_encoded = pd.get_dummies(data_selected, columns=categorical_cols)\n",
        "\n",
        "# Data enrichment: Create a feature based on car usage\n",
        "data_encoded['Usage_Category'] = pd.cut(data_encoded['Kms_Driven'], bins=[0, 10000, 50000, 100000, float('inf')],\n",
        "                                       labels=['Low', 'Moderate', 'High', 'Very High'])\n",
        "\n",
        "# Perform one-hot encoding on the 'Usage_Category' column\n",
        "data_encoded = pd.get_dummies(data_encoded, columns=['Usage_Category'])\n",
        "\n",
        "# Drop 'Kms_Driven' after creating the usage category feature\n",
        "data_encoded.drop('Kms_Driven', axis=1, inplace=True)\n",
        "\n",
        "# Data preprocessing and transformation (example: dropping missing values)\n",
        "data_encoded.dropna(inplace=True)\n",
        "\n",
        "# Assuming the dataset has a target column named 'Selling_Price' and features columns after encoding\n",
        "features_encoded = data_encoded.drop('Selling_Price', axis=1)\n",
        "target_encoded = data_encoded['Selling_Price']\n",
        "\n",
        "# Split the dataset into training and testing sets\n",
        "X_train_encoded, X_test_encoded, y_train_encoded, y_test_encoded = train_test_split(\n",
        "    features_encoded, target_encoded, test_size=0.2, random_state=42\n",
        ")\n",
        "\n",
        "# Initialize a machine learning model (Random Forest Regressor in this case for price prediction)\n",
        "model = RandomForestRegressor()\n",
        "\n",
        "# Train the model\n",
        "model.fit(X_train_encoded, y_train_encoded)\n",
        "\n",
        "# Make predictions\n",
        "predictions = model.predict(X_test_encoded)\n",
        "\n",
        "# Evaluate the model\n",
        "mse = mean_squared_error(y_test_encoded, predictions)\n",
        "print(f\"Mean Squared Error: {mse}\")"
      ],
      "metadata": {
        "id": "5hH-r-JXLzcj",
        "colab": {
          "base_uri": "https://localhost:8080/"
        },
        "outputId": "8d51623c-6c6c-4c75-a007-3fa28949f5e1"
      },
      "execution_count": 5,
      "outputs": [
        {
          "output_type": "stream",
          "name": "stdout",
          "text": [
            "Mean Squared Error: 0.8416697665061453\n"
          ]
        }
      ]
    },
    {
      "cell_type": "code",
      "source": [
        "print(data_encoded.head())"
      ],
      "metadata": {
        "colab": {
          "base_uri": "https://localhost:8080/"
        },
        "id": "Y_MSTa9yOQky",
        "outputId": "dc668d0f-9d22-4dbc-fee3-05d923fe5e98"
      },
      "execution_count": 6,
      "outputs": [
        {
          "output_type": "stream",
          "name": "stdout",
          "text": [
            "   Selling_Price  Present_Price  Owner  Age  Fuel_Type_CNG  Fuel_Type_Diesel  \\\n",
            "0           3.35           5.59      0   10              0                 0   \n",
            "1           4.75           9.54      0   11              0                 1   \n",
            "2           7.25           9.85      0    7              0                 0   \n",
            "3           2.85           4.15      0   13              0                 0   \n",
            "4           4.60           6.87      0   10              0                 1   \n",
            "\n",
            "   Fuel_Type_Petrol  Seller_Type_Dealer  Seller_Type_Individual  \\\n",
            "0                 1                   1                       0   \n",
            "1                 0                   1                       0   \n",
            "2                 1                   1                       0   \n",
            "3                 1                   1                       0   \n",
            "4                 0                   1                       0   \n",
            "\n",
            "   Transmission_Automatic  Transmission_Manual  Usage_Category_Low  \\\n",
            "0                       0                    1                   0   \n",
            "1                       0                    1                   0   \n",
            "2                       0                    1                   1   \n",
            "3                       0                    1                   1   \n",
            "4                       0                    1                   0   \n",
            "\n",
            "   Usage_Category_Moderate  Usage_Category_High  Usage_Category_Very High  \n",
            "0                        1                    0                         0  \n",
            "1                        1                    0                         0  \n",
            "2                        0                    0                         0  \n",
            "3                        0                    0                         0  \n",
            "4                        1                    0                         0  \n"
          ]
        }
      ]
    },
    {
      "cell_type": "code",
      "source": [
        "summary_stats = data_encoded.describe()\n",
        "summary_stats"
      ],
      "metadata": {
        "id": "b9K0-HXNNhS3",
        "colab": {
          "base_uri": "https://localhost:8080/",
          "height": 338
        },
        "outputId": "3e062463-9beb-4f07-c472-8887e4436302"
      },
      "execution_count": 7,
      "outputs": [
        {
          "output_type": "execute_result",
          "data": {
            "text/plain": [
              "       Selling_Price  Present_Price       Owner         Age  Fuel_Type_CNG  \\\n",
              "count     301.000000     301.000000  301.000000  301.000000     301.000000   \n",
              "mean        4.661296       7.628472    0.043189   10.372093       0.006645   \n",
              "std         5.082812       8.644115    0.247915    2.891554       0.081378   \n",
              "min         0.100000       0.320000    0.000000    6.000000       0.000000   \n",
              "25%         0.900000       1.200000    0.000000    8.000000       0.000000   \n",
              "50%         3.600000       6.400000    0.000000   10.000000       0.000000   \n",
              "75%         6.000000       9.900000    0.000000   12.000000       0.000000   \n",
              "max        35.000000      92.600000    3.000000   21.000000       1.000000   \n",
              "\n",
              "       Fuel_Type_Diesel  Fuel_Type_Petrol  Seller_Type_Dealer  \\\n",
              "count        301.000000        301.000000          301.000000   \n",
              "mean           0.199336          0.794020            0.647841   \n",
              "std            0.400166          0.405089            0.478439   \n",
              "min            0.000000          0.000000            0.000000   \n",
              "25%            0.000000          1.000000            0.000000   \n",
              "50%            0.000000          1.000000            1.000000   \n",
              "75%            0.000000          1.000000            1.000000   \n",
              "max            1.000000          1.000000            1.000000   \n",
              "\n",
              "       Seller_Type_Individual  Transmission_Automatic  Transmission_Manual  \\\n",
              "count              301.000000              301.000000           301.000000   \n",
              "mean                 0.352159                0.132890             0.867110   \n",
              "std                  0.478439                0.340021             0.340021   \n",
              "min                  0.000000                0.000000             0.000000   \n",
              "25%                  0.000000                0.000000             1.000000   \n",
              "50%                  0.000000                0.000000             1.000000   \n",
              "75%                  1.000000                0.000000             1.000000   \n",
              "max                  1.000000                1.000000             1.000000   \n",
              "\n",
              "       Usage_Category_Low  Usage_Category_Moderate  Usage_Category_High  \\\n",
              "count          301.000000               301.000000           301.000000   \n",
              "mean             0.156146                 0.624585             0.192691   \n",
              "std              0.363598                 0.485036             0.395069   \n",
              "min              0.000000                 0.000000             0.000000   \n",
              "25%              0.000000                 0.000000             0.000000   \n",
              "50%              0.000000                 1.000000             0.000000   \n",
              "75%              0.000000                 1.000000             0.000000   \n",
              "max              1.000000                 1.000000             1.000000   \n",
              "\n",
              "       Usage_Category_Very High  \n",
              "count                301.000000  \n",
              "mean                   0.026578  \n",
              "std                    0.161115  \n",
              "min                    0.000000  \n",
              "25%                    0.000000  \n",
              "50%                    0.000000  \n",
              "75%                    0.000000  \n",
              "max                    1.000000  "
            ],
            "text/html": [
              "\n",
              "  <div id=\"df-5460e1d6-7aa3-488c-a7e9-31735a2b169e\" class=\"colab-df-container\">\n",
              "    <div>\n",
              "<style scoped>\n",
              "    .dataframe tbody tr th:only-of-type {\n",
              "        vertical-align: middle;\n",
              "    }\n",
              "\n",
              "    .dataframe tbody tr th {\n",
              "        vertical-align: top;\n",
              "    }\n",
              "\n",
              "    .dataframe thead th {\n",
              "        text-align: right;\n",
              "    }\n",
              "</style>\n",
              "<table border=\"1\" class=\"dataframe\">\n",
              "  <thead>\n",
              "    <tr style=\"text-align: right;\">\n",
              "      <th></th>\n",
              "      <th>Selling_Price</th>\n",
              "      <th>Present_Price</th>\n",
              "      <th>Owner</th>\n",
              "      <th>Age</th>\n",
              "      <th>Fuel_Type_CNG</th>\n",
              "      <th>Fuel_Type_Diesel</th>\n",
              "      <th>Fuel_Type_Petrol</th>\n",
              "      <th>Seller_Type_Dealer</th>\n",
              "      <th>Seller_Type_Individual</th>\n",
              "      <th>Transmission_Automatic</th>\n",
              "      <th>Transmission_Manual</th>\n",
              "      <th>Usage_Category_Low</th>\n",
              "      <th>Usage_Category_Moderate</th>\n",
              "      <th>Usage_Category_High</th>\n",
              "      <th>Usage_Category_Very High</th>\n",
              "    </tr>\n",
              "  </thead>\n",
              "  <tbody>\n",
              "    <tr>\n",
              "      <th>count</th>\n",
              "      <td>301.000000</td>\n",
              "      <td>301.000000</td>\n",
              "      <td>301.000000</td>\n",
              "      <td>301.000000</td>\n",
              "      <td>301.000000</td>\n",
              "      <td>301.000000</td>\n",
              "      <td>301.000000</td>\n",
              "      <td>301.000000</td>\n",
              "      <td>301.000000</td>\n",
              "      <td>301.000000</td>\n",
              "      <td>301.000000</td>\n",
              "      <td>301.000000</td>\n",
              "      <td>301.000000</td>\n",
              "      <td>301.000000</td>\n",
              "      <td>301.000000</td>\n",
              "    </tr>\n",
              "    <tr>\n",
              "      <th>mean</th>\n",
              "      <td>4.661296</td>\n",
              "      <td>7.628472</td>\n",
              "      <td>0.043189</td>\n",
              "      <td>10.372093</td>\n",
              "      <td>0.006645</td>\n",
              "      <td>0.199336</td>\n",
              "      <td>0.794020</td>\n",
              "      <td>0.647841</td>\n",
              "      <td>0.352159</td>\n",
              "      <td>0.132890</td>\n",
              "      <td>0.867110</td>\n",
              "      <td>0.156146</td>\n",
              "      <td>0.624585</td>\n",
              "      <td>0.192691</td>\n",
              "      <td>0.026578</td>\n",
              "    </tr>\n",
              "    <tr>\n",
              "      <th>std</th>\n",
              "      <td>5.082812</td>\n",
              "      <td>8.644115</td>\n",
              "      <td>0.247915</td>\n",
              "      <td>2.891554</td>\n",
              "      <td>0.081378</td>\n",
              "      <td>0.400166</td>\n",
              "      <td>0.405089</td>\n",
              "      <td>0.478439</td>\n",
              "      <td>0.478439</td>\n",
              "      <td>0.340021</td>\n",
              "      <td>0.340021</td>\n",
              "      <td>0.363598</td>\n",
              "      <td>0.485036</td>\n",
              "      <td>0.395069</td>\n",
              "      <td>0.161115</td>\n",
              "    </tr>\n",
              "    <tr>\n",
              "      <th>min</th>\n",
              "      <td>0.100000</td>\n",
              "      <td>0.320000</td>\n",
              "      <td>0.000000</td>\n",
              "      <td>6.000000</td>\n",
              "      <td>0.000000</td>\n",
              "      <td>0.000000</td>\n",
              "      <td>0.000000</td>\n",
              "      <td>0.000000</td>\n",
              "      <td>0.000000</td>\n",
              "      <td>0.000000</td>\n",
              "      <td>0.000000</td>\n",
              "      <td>0.000000</td>\n",
              "      <td>0.000000</td>\n",
              "      <td>0.000000</td>\n",
              "      <td>0.000000</td>\n",
              "    </tr>\n",
              "    <tr>\n",
              "      <th>25%</th>\n",
              "      <td>0.900000</td>\n",
              "      <td>1.200000</td>\n",
              "      <td>0.000000</td>\n",
              "      <td>8.000000</td>\n",
              "      <td>0.000000</td>\n",
              "      <td>0.000000</td>\n",
              "      <td>1.000000</td>\n",
              "      <td>0.000000</td>\n",
              "      <td>0.000000</td>\n",
              "      <td>0.000000</td>\n",
              "      <td>1.000000</td>\n",
              "      <td>0.000000</td>\n",
              "      <td>0.000000</td>\n",
              "      <td>0.000000</td>\n",
              "      <td>0.000000</td>\n",
              "    </tr>\n",
              "    <tr>\n",
              "      <th>50%</th>\n",
              "      <td>3.600000</td>\n",
              "      <td>6.400000</td>\n",
              "      <td>0.000000</td>\n",
              "      <td>10.000000</td>\n",
              "      <td>0.000000</td>\n",
              "      <td>0.000000</td>\n",
              "      <td>1.000000</td>\n",
              "      <td>1.000000</td>\n",
              "      <td>0.000000</td>\n",
              "      <td>0.000000</td>\n",
              "      <td>1.000000</td>\n",
              "      <td>0.000000</td>\n",
              "      <td>1.000000</td>\n",
              "      <td>0.000000</td>\n",
              "      <td>0.000000</td>\n",
              "    </tr>\n",
              "    <tr>\n",
              "      <th>75%</th>\n",
              "      <td>6.000000</td>\n",
              "      <td>9.900000</td>\n",
              "      <td>0.000000</td>\n",
              "      <td>12.000000</td>\n",
              "      <td>0.000000</td>\n",
              "      <td>0.000000</td>\n",
              "      <td>1.000000</td>\n",
              "      <td>1.000000</td>\n",
              "      <td>1.000000</td>\n",
              "      <td>0.000000</td>\n",
              "      <td>1.000000</td>\n",
              "      <td>0.000000</td>\n",
              "      <td>1.000000</td>\n",
              "      <td>0.000000</td>\n",
              "      <td>0.000000</td>\n",
              "    </tr>\n",
              "    <tr>\n",
              "      <th>max</th>\n",
              "      <td>35.000000</td>\n",
              "      <td>92.600000</td>\n",
              "      <td>3.000000</td>\n",
              "      <td>21.000000</td>\n",
              "      <td>1.000000</td>\n",
              "      <td>1.000000</td>\n",
              "      <td>1.000000</td>\n",
              "      <td>1.000000</td>\n",
              "      <td>1.000000</td>\n",
              "      <td>1.000000</td>\n",
              "      <td>1.000000</td>\n",
              "      <td>1.000000</td>\n",
              "      <td>1.000000</td>\n",
              "      <td>1.000000</td>\n",
              "      <td>1.000000</td>\n",
              "    </tr>\n",
              "  </tbody>\n",
              "</table>\n",
              "</div>\n",
              "    <div class=\"colab-df-buttons\">\n",
              "\n",
              "  <div class=\"colab-df-container\">\n",
              "    <button class=\"colab-df-convert\" onclick=\"convertToInteractive('df-5460e1d6-7aa3-488c-a7e9-31735a2b169e')\"\n",
              "            title=\"Convert this dataframe to an interactive table.\"\n",
              "            style=\"display:none;\">\n",
              "\n",
              "  <svg xmlns=\"http://www.w3.org/2000/svg\" height=\"24px\" viewBox=\"0 -960 960 960\">\n",
              "    <path d=\"M120-120v-720h720v720H120Zm60-500h600v-160H180v160Zm220 220h160v-160H400v160Zm0 220h160v-160H400v160ZM180-400h160v-160H180v160Zm440 0h160v-160H620v160ZM180-180h160v-160H180v160Zm440 0h160v-160H620v160Z\"/>\n",
              "  </svg>\n",
              "    </button>\n",
              "\n",
              "  <style>\n",
              "    .colab-df-container {\n",
              "      display:flex;\n",
              "      gap: 12px;\n",
              "    }\n",
              "\n",
              "    .colab-df-convert {\n",
              "      background-color: #E8F0FE;\n",
              "      border: none;\n",
              "      border-radius: 50%;\n",
              "      cursor: pointer;\n",
              "      display: none;\n",
              "      fill: #1967D2;\n",
              "      height: 32px;\n",
              "      padding: 0 0 0 0;\n",
              "      width: 32px;\n",
              "    }\n",
              "\n",
              "    .colab-df-convert:hover {\n",
              "      background-color: #E2EBFA;\n",
              "      box-shadow: 0px 1px 2px rgba(60, 64, 67, 0.3), 0px 1px 3px 1px rgba(60, 64, 67, 0.15);\n",
              "      fill: #174EA6;\n",
              "    }\n",
              "\n",
              "    .colab-df-buttons div {\n",
              "      margin-bottom: 4px;\n",
              "    }\n",
              "\n",
              "    [theme=dark] .colab-df-convert {\n",
              "      background-color: #3B4455;\n",
              "      fill: #D2E3FC;\n",
              "    }\n",
              "\n",
              "    [theme=dark] .colab-df-convert:hover {\n",
              "      background-color: #434B5C;\n",
              "      box-shadow: 0px 1px 3px 1px rgba(0, 0, 0, 0.15);\n",
              "      filter: drop-shadow(0px 1px 2px rgba(0, 0, 0, 0.3));\n",
              "      fill: #FFFFFF;\n",
              "    }\n",
              "  </style>\n",
              "\n",
              "    <script>\n",
              "      const buttonEl =\n",
              "        document.querySelector('#df-5460e1d6-7aa3-488c-a7e9-31735a2b169e button.colab-df-convert');\n",
              "      buttonEl.style.display =\n",
              "        google.colab.kernel.accessAllowed ? 'block' : 'none';\n",
              "\n",
              "      async function convertToInteractive(key) {\n",
              "        const element = document.querySelector('#df-5460e1d6-7aa3-488c-a7e9-31735a2b169e');\n",
              "        const dataTable =\n",
              "          await google.colab.kernel.invokeFunction('convertToInteractive',\n",
              "                                                    [key], {});\n",
              "        if (!dataTable) return;\n",
              "\n",
              "        const docLinkHtml = 'Like what you see? Visit the ' +\n",
              "          '<a target=\"_blank\" href=https://colab.research.google.com/notebooks/data_table.ipynb>data table notebook</a>'\n",
              "          + ' to learn more about interactive tables.';\n",
              "        element.innerHTML = '';\n",
              "        dataTable['output_type'] = 'display_data';\n",
              "        await google.colab.output.renderOutput(dataTable, element);\n",
              "        const docLink = document.createElement('div');\n",
              "        docLink.innerHTML = docLinkHtml;\n",
              "        element.appendChild(docLink);\n",
              "      }\n",
              "    </script>\n",
              "  </div>\n",
              "\n",
              "\n",
              "<div id=\"df-52216e64-b66b-42d9-a92f-448d486ff25c\">\n",
              "  <button class=\"colab-df-quickchart\" onclick=\"quickchart('df-52216e64-b66b-42d9-a92f-448d486ff25c')\"\n",
              "            title=\"Suggest charts\"\n",
              "            style=\"display:none;\">\n",
              "\n",
              "<svg xmlns=\"http://www.w3.org/2000/svg\" height=\"24px\"viewBox=\"0 0 24 24\"\n",
              "     width=\"24px\">\n",
              "    <g>\n",
              "        <path d=\"M19 3H5c-1.1 0-2 .9-2 2v14c0 1.1.9 2 2 2h14c1.1 0 2-.9 2-2V5c0-1.1-.9-2-2-2zM9 17H7v-7h2v7zm4 0h-2V7h2v10zm4 0h-2v-4h2v4z\"/>\n",
              "    </g>\n",
              "</svg>\n",
              "  </button>\n",
              "\n",
              "<style>\n",
              "  .colab-df-quickchart {\n",
              "      --bg-color: #E8F0FE;\n",
              "      --fill-color: #1967D2;\n",
              "      --hover-bg-color: #E2EBFA;\n",
              "      --hover-fill-color: #174EA6;\n",
              "      --disabled-fill-color: #AAA;\n",
              "      --disabled-bg-color: #DDD;\n",
              "  }\n",
              "\n",
              "  [theme=dark] .colab-df-quickchart {\n",
              "      --bg-color: #3B4455;\n",
              "      --fill-color: #D2E3FC;\n",
              "      --hover-bg-color: #434B5C;\n",
              "      --hover-fill-color: #FFFFFF;\n",
              "      --disabled-bg-color: #3B4455;\n",
              "      --disabled-fill-color: #666;\n",
              "  }\n",
              "\n",
              "  .colab-df-quickchart {\n",
              "    background-color: var(--bg-color);\n",
              "    border: none;\n",
              "    border-radius: 50%;\n",
              "    cursor: pointer;\n",
              "    display: none;\n",
              "    fill: var(--fill-color);\n",
              "    height: 32px;\n",
              "    padding: 0;\n",
              "    width: 32px;\n",
              "  }\n",
              "\n",
              "  .colab-df-quickchart:hover {\n",
              "    background-color: var(--hover-bg-color);\n",
              "    box-shadow: 0 1px 2px rgba(60, 64, 67, 0.3), 0 1px 3px 1px rgba(60, 64, 67, 0.15);\n",
              "    fill: var(--button-hover-fill-color);\n",
              "  }\n",
              "\n",
              "  .colab-df-quickchart-complete:disabled,\n",
              "  .colab-df-quickchart-complete:disabled:hover {\n",
              "    background-color: var(--disabled-bg-color);\n",
              "    fill: var(--disabled-fill-color);\n",
              "    box-shadow: none;\n",
              "  }\n",
              "\n",
              "  .colab-df-spinner {\n",
              "    border: 2px solid var(--fill-color);\n",
              "    border-color: transparent;\n",
              "    border-bottom-color: var(--fill-color);\n",
              "    animation:\n",
              "      spin 1s steps(1) infinite;\n",
              "  }\n",
              "\n",
              "  @keyframes spin {\n",
              "    0% {\n",
              "      border-color: transparent;\n",
              "      border-bottom-color: var(--fill-color);\n",
              "      border-left-color: var(--fill-color);\n",
              "    }\n",
              "    20% {\n",
              "      border-color: transparent;\n",
              "      border-left-color: var(--fill-color);\n",
              "      border-top-color: var(--fill-color);\n",
              "    }\n",
              "    30% {\n",
              "      border-color: transparent;\n",
              "      border-left-color: var(--fill-color);\n",
              "      border-top-color: var(--fill-color);\n",
              "      border-right-color: var(--fill-color);\n",
              "    }\n",
              "    40% {\n",
              "      border-color: transparent;\n",
              "      border-right-color: var(--fill-color);\n",
              "      border-top-color: var(--fill-color);\n",
              "    }\n",
              "    60% {\n",
              "      border-color: transparent;\n",
              "      border-right-color: var(--fill-color);\n",
              "    }\n",
              "    80% {\n",
              "      border-color: transparent;\n",
              "      border-right-color: var(--fill-color);\n",
              "      border-bottom-color: var(--fill-color);\n",
              "    }\n",
              "    90% {\n",
              "      border-color: transparent;\n",
              "      border-bottom-color: var(--fill-color);\n",
              "    }\n",
              "  }\n",
              "</style>\n",
              "\n",
              "  <script>\n",
              "    async function quickchart(key) {\n",
              "      const quickchartButtonEl =\n",
              "        document.querySelector('#' + key + ' button');\n",
              "      quickchartButtonEl.disabled = true;  // To prevent multiple clicks.\n",
              "      quickchartButtonEl.classList.add('colab-df-spinner');\n",
              "      try {\n",
              "        const charts = await google.colab.kernel.invokeFunction(\n",
              "            'suggestCharts', [key], {});\n",
              "      } catch (error) {\n",
              "        console.error('Error during call to suggestCharts:', error);\n",
              "      }\n",
              "      quickchartButtonEl.classList.remove('colab-df-spinner');\n",
              "      quickchartButtonEl.classList.add('colab-df-quickchart-complete');\n",
              "    }\n",
              "    (() => {\n",
              "      let quickchartButtonEl =\n",
              "        document.querySelector('#df-52216e64-b66b-42d9-a92f-448d486ff25c button');\n",
              "      quickchartButtonEl.style.display =\n",
              "        google.colab.kernel.accessAllowed ? 'block' : 'none';\n",
              "    })();\n",
              "  </script>\n",
              "</div>\n",
              "    </div>\n",
              "  </div>\n"
            ]
          },
          "metadata": {},
          "execution_count": 7
        }
      ]
    },
    {
      "cell_type": "code",
      "source": [
        "# Save the modified DataFrame back to a CSV file\n",
        "data.to_csv('modified_car_prediction_data.csv', index=False)  # Specify a filename for the modified dataset"
      ],
      "metadata": {
        "id": "KaVhdXLmO5qD"
      },
      "execution_count": 8,
      "outputs": []
    },
    {
      "cell_type": "code",
      "source": [
        "#loading the dataset into Database\n",
        "\n",
        "\n",
        "# Connect to an SQLite database (if it doesn't exist, it will be created)\n",
        "conn = sqlite3.connect('etl.db')\n",
        "\n",
        "\n",
        "data_encoded.to_sql('car', conn, if_exists='replace', index=False)\n",
        "\n",
        "# Commit changes and close the connection\n",
        "conn.commit()\n",
        "conn.close()"
      ],
      "metadata": {
        "id": "XVmrq0iea25G"
      },
      "execution_count": 9,
      "outputs": []
    },
    {
      "cell_type": "code",
      "source": [
        "# Load the dataset\n",
        "file_path = 'framingham.csv'\n",
        "data1 = pd.read_csv(file_path)\n",
        "\n",
        "# Check for missing values in the dataset\n",
        "null_values = data1.isnull().sum()\n",
        "\n",
        "print(null_values)\n"
      ],
      "metadata": {
        "id": "NHchUSMMPyT_",
        "colab": {
          "base_uri": "https://localhost:8080/"
        },
        "outputId": "bbd5a8bf-76d0-4b4c-e1e1-149a3bfbf58a"
      },
      "execution_count": 10,
      "outputs": [
        {
          "output_type": "stream",
          "name": "stdout",
          "text": [
            "male               0\n",
            "age                0\n",
            "education          0\n",
            "currentSmoker      0\n",
            "cigsPerDay         0\n",
            "BPMeds             0\n",
            "prevalentStroke    0\n",
            "prevalentHyp       0\n",
            "diabetes           0\n",
            "totChol            0\n",
            "sysBP              0\n",
            "diaBP              0\n",
            "BMI                0\n",
            "heartRate          0\n",
            "glucose            0\n",
            "TenYearCHD         0\n",
            "dtype: int64\n"
          ]
        }
      ]
    },
    {
      "cell_type": "code",
      "source": [
        "print(data1.columns)"
      ],
      "metadata": {
        "id": "L07JF214QreJ",
        "colab": {
          "base_uri": "https://localhost:8080/"
        },
        "outputId": "d5af283d-68d5-46ab-ca54-a2c30f197f6b"
      },
      "execution_count": 11,
      "outputs": [
        {
          "output_type": "stream",
          "name": "stdout",
          "text": [
            "Index(['male', 'age', 'education', 'currentSmoker', 'cigsPerDay', 'BPMeds',\n",
            "       'prevalentStroke', 'prevalentHyp', 'diabetes', 'totChol', 'sysBP',\n",
            "       'diaBP', 'BMI', 'heartRate', 'glucose', 'TenYearCHD'],\n",
            "      dtype='object')\n"
          ]
        }
      ]
    },
    {
      "cell_type": "code",
      "source": [
        "# Replace null values in numerical columns with the mean\n",
        "data1.fillna(data1.mean(), inplace=True)\n",
        "\n",
        "\n"
      ],
      "metadata": {
        "id": "RxbnxvjUQxzh"
      },
      "execution_count": 12,
      "outputs": []
    },
    {
      "cell_type": "code",
      "source": [
        "data1.isnull().sum()"
      ],
      "metadata": {
        "id": "txzjzsJdR3FB",
        "colab": {
          "base_uri": "https://localhost:8080/"
        },
        "outputId": "41c853e1-cf87-4bcf-99cb-0f1e40ef1933"
      },
      "execution_count": 13,
      "outputs": [
        {
          "output_type": "execute_result",
          "data": {
            "text/plain": [
              "male               0\n",
              "age                0\n",
              "education          0\n",
              "currentSmoker      0\n",
              "cigsPerDay         0\n",
              "BPMeds             0\n",
              "prevalentStroke    0\n",
              "prevalentHyp       0\n",
              "diabetes           0\n",
              "totChol            0\n",
              "sysBP              0\n",
              "diaBP              0\n",
              "BMI                0\n",
              "heartRate          0\n",
              "glucose            0\n",
              "TenYearCHD         0\n",
              "dtype: int64"
            ]
          },
          "metadata": {},
          "execution_count": 13
        }
      ]
    },
    {
      "cell_type": "code",
      "source": [
        "# Select columns excluding 'TenYearCHD'\n",
        "cols_to_use = ['male', 'age', 'education', 'currentSmoker', 'cigsPerDay', 'BPMeds',\n",
        "               'prevalentStroke', 'prevalentHyp', 'diabetes', 'totChol', 'sysBP',\n",
        "               'diaBP', 'BMI', 'heartRate', 'glucose', 'TenYearCHD']\n",
        "\n",
        "# Extract data with selected columns\n",
        "data_selected = data1[cols_to_use]\n",
        "\n",
        "# Handle missing values (assuming 'education' has missing values)\n",
        "data_selected['education'].fillna(data_selected['education'].median(), inplace=True)\n",
        "# Handle other columns with missing values as needed\n",
        "\n",
        "# Create BMI Category\n",
        "data_selected['BMI_Category'] = pd.cut(data_selected['BMI'], bins=[0, 18.5, 24.9, 29.9, float('inf')],\n",
        "                                       labels=['Underweight', 'Normal', 'Overweight', 'Obese'])\n",
        "\n",
        "# Perform one-hot encoding on the 'BMI_Category' column\n",
        "data_selected = pd.get_dummies(data_selected, columns=['BMI_Category'])\n",
        "\n",
        "# Drop the original BMI column after creating the BMI category feature\n",
        "data_selected.drop('BMI', axis=1, inplace=True)\n",
        "\n",
        "# Assuming the dataset has a target column named 'TenYearCHD' and features columns after encoding\n",
        "features_selected = data_selected.drop('TenYearCHD', axis=1)\n",
        "target_selected = data_selected['TenYearCHD']\n",
        "\n",
        "# Split the dataset into training and testing sets\n",
        "X_train_selected, X_test_selected, y_train_selected, y_test_selected = train_test_split(\n",
        "    features_selected, target_selected, test_size=0.2, random_state=42\n",
        ")\n",
        "\n",
        "# Initialize a machine learning model (Random Forest Classifier for classification)\n",
        "model = RandomForestClassifier()\n",
        "\n",
        "# Train the model\n",
        "model.fit(X_train_selected, y_train_selected)\n",
        "\n",
        "# Make predictions\n",
        "predictions = model.predict(X_test_selected)\n",
        "\n",
        "# Evaluate the model\n",
        "accuracy = accuracy_score(y_test_selected, predictions)\n",
        "print(f\"Accuracy: {accuracy}\")\n"
      ],
      "metadata": {
        "id": "wdmGYx0ASS8Z",
        "colab": {
          "base_uri": "https://localhost:8080/"
        },
        "outputId": "da0f4853-9013-4e8c-b5b0-5c25a33bca3d"
      },
      "execution_count": 14,
      "outputs": [
        {
          "output_type": "stream",
          "name": "stdout",
          "text": [
            "Accuracy: 0.8584905660377359\n"
          ]
        }
      ]
    },
    {
      "cell_type": "code",
      "source": [
        "# Assuming your DataFrame is named 'data'\n",
        "summary_stats = data1.describe()\n",
        "print(summary_stats)\n"
      ],
      "metadata": {
        "id": "KHimTPoRSlcP",
        "colab": {
          "base_uri": "https://localhost:8080/"
        },
        "outputId": "41e273d6-4c12-4b5b-aeaa-d6ddebb0b66f"
      },
      "execution_count": 15,
      "outputs": [
        {
          "output_type": "stream",
          "name": "stdout",
          "text": [
            "              male          age    education  currentSmoker   cigsPerDay  \\\n",
            "count  4240.000000  4240.000000  4240.000000    4240.000000  4240.000000   \n",
            "mean      0.429245    49.580189     1.979444       0.494104     9.005937   \n",
            "std       0.495027     8.572942     1.007082       0.500024    11.881610   \n",
            "min       0.000000    32.000000     1.000000       0.000000     0.000000   \n",
            "25%       0.000000    42.000000     1.000000       0.000000     0.000000   \n",
            "50%       0.000000    49.000000     2.000000       0.000000     0.000000   \n",
            "75%       1.000000    56.000000     3.000000       1.000000    20.000000   \n",
            "max       1.000000    70.000000     4.000000       1.000000    70.000000   \n",
            "\n",
            "            BPMeds  prevalentStroke  prevalentHyp     diabetes      totChol  \\\n",
            "count  4240.000000      4240.000000   4240.000000  4240.000000  4240.000000   \n",
            "mean      0.029615         0.005896      0.310613     0.025708   236.699523   \n",
            "std       0.168481         0.076569      0.462799     0.158280    44.327521   \n",
            "min       0.000000         0.000000      0.000000     0.000000   107.000000   \n",
            "25%       0.000000         0.000000      0.000000     0.000000   206.000000   \n",
            "50%       0.000000         0.000000      0.000000     0.000000   234.000000   \n",
            "75%       0.000000         0.000000      1.000000     0.000000   262.000000   \n",
            "max       1.000000         1.000000      1.000000     1.000000   696.000000   \n",
            "\n",
            "             sysBP        diaBP          BMI    heartRate      glucose  \\\n",
            "count  4240.000000  4240.000000  4240.000000  4240.000000  4240.000000   \n",
            "mean    132.354599    82.897759    25.800801    75.878981    81.963655   \n",
            "std      22.033300    11.910394     4.070687    12.023929    22.831748   \n",
            "min      83.500000    48.000000    15.540000    44.000000    40.000000   \n",
            "25%     117.000000    75.000000    23.077500    68.000000    72.000000   \n",
            "50%     128.000000    82.000000    25.410000    75.000000    80.000000   \n",
            "75%     144.000000    90.000000    28.032500    83.000000    85.000000   \n",
            "max     295.000000   142.500000    56.800000   143.000000   394.000000   \n",
            "\n",
            "        TenYearCHD  \n",
            "count  4240.000000  \n",
            "mean      0.151887  \n",
            "std       0.358953  \n",
            "min       0.000000  \n",
            "25%       0.000000  \n",
            "50%       0.000000  \n",
            "75%       0.000000  \n",
            "max       1.000000  \n"
          ]
        }
      ]
    },
    {
      "cell_type": "code",
      "source": [
        "# Save the modified DataFrame back to a CSV file\n",
        "data1.to_csv('modified_framingham.csv', index=False)  # Specify a filename for the modified dataset"
      ],
      "metadata": {
        "id": "iOnNoKTfTT5A"
      },
      "execution_count": 16,
      "outputs": []
    },
    {
      "cell_type": "code",
      "source": [
        "#loading the dataset into Database\n",
        "\n",
        "# Connect to an SQLite database (if it doesn't exist, it will be created)\n",
        "conn = sqlite3.connect('etl.db')\n",
        "\n",
        "\n",
        "data_selected.to_sql('health', conn, if_exists='replace', index=False)\n",
        "\n",
        "# Commit changes and close the connection\n",
        "conn.commit()\n",
        "conn.close()"
      ],
      "metadata": {
        "id": "zDIzXTh_d7v2"
      },
      "execution_count": 17,
      "outputs": []
    },
    {
      "cell_type": "code",
      "source": [
        "# Load the dataset\n",
        "file_path = 'food-price-index-september-2023-seasonally-adjusted.csv'\n",
        "data2 = pd.read_csv(file_path)\n",
        "\n",
        "print(data2.columns)"
      ],
      "metadata": {
        "id": "ThWQnCLuTZBk",
        "colab": {
          "base_uri": "https://localhost:8080/"
        },
        "outputId": "7c6add49-279e-41dc-d621-07f88639adbd"
      },
      "execution_count": 18,
      "outputs": [
        {
          "output_type": "stream",
          "name": "stdout",
          "text": [
            "Index(['Series_reference', 'Period', 'Data_value', 'STATUS', 'UNITS',\n",
            "       'Subject', 'Group', 'Series_title_1'],\n",
            "      dtype='object')\n"
          ]
        }
      ]
    },
    {
      "cell_type": "code",
      "source": [
        "data2.isnull().sum()"
      ],
      "metadata": {
        "id": "vStYuuLeTygm",
        "colab": {
          "base_uri": "https://localhost:8080/"
        },
        "outputId": "467a1761-41b9-464d-d443-0bcbaee55705"
      },
      "execution_count": 19,
      "outputs": [
        {
          "output_type": "execute_result",
          "data": {
            "text/plain": [
              "Series_reference    0\n",
              "Period              0\n",
              "Data_value          3\n",
              "STATUS              0\n",
              "UNITS               0\n",
              "Subject             0\n",
              "Group               0\n",
              "Series_title_1      0\n",
              "dtype: int64"
            ]
          },
          "metadata": {},
          "execution_count": 19
        }
      ]
    },
    {
      "cell_type": "code",
      "source": [
        "# Fill null values in numerical columns with their mean\n",
        "data2.fillna(data2.mean(), inplace=True)\n"
      ],
      "metadata": {
        "id": "D7uJAOUOVBQL",
        "colab": {
          "base_uri": "https://localhost:8080/"
        },
        "outputId": "b07b9b0f-a76a-437c-9d4a-0c2e499624c6"
      },
      "execution_count": 20,
      "outputs": [
        {
          "output_type": "stream",
          "name": "stderr",
          "text": [
            "<ipython-input-20-c6095afbdaf2>:2: FutureWarning: The default value of numeric_only in DataFrame.mean is deprecated. In a future version, it will default to False. In addition, specifying 'numeric_only=None' is deprecated. Select only valid columns or specify the value of numeric_only to silence this warning.\n",
            "  data2.fillna(data2.mean(), inplace=True)\n"
          ]
        }
      ]
    },
    {
      "cell_type": "code",
      "source": [
        "data2.isnull().sum()"
      ],
      "metadata": {
        "id": "pzG-xy_-anQA",
        "colab": {
          "base_uri": "https://localhost:8080/"
        },
        "outputId": "4c20fd53-7032-4851-eae8-3514b59ef624"
      },
      "execution_count": 21,
      "outputs": [
        {
          "output_type": "execute_result",
          "data": {
            "text/plain": [
              "Series_reference    0\n",
              "Period              0\n",
              "Data_value          0\n",
              "STATUS              0\n",
              "UNITS               0\n",
              "Subject             0\n",
              "Group               0\n",
              "Series_title_1      0\n",
              "dtype: int64"
            ]
          },
          "metadata": {},
          "execution_count": 21
        }
      ]
    },
    {
      "cell_type": "code",
      "source": [
        "print(data2.columns)\n"
      ],
      "metadata": {
        "id": "Hhfx96GqZYPP",
        "colab": {
          "base_uri": "https://localhost:8080/"
        },
        "outputId": "6362ec7c-2683-4d36-d985-475a004e9303"
      },
      "execution_count": 22,
      "outputs": [
        {
          "output_type": "stream",
          "name": "stdout",
          "text": [
            "Index(['Series_reference', 'Period', 'Data_value', 'STATUS', 'UNITS',\n",
            "       'Subject', 'Group', 'Series_title_1'],\n",
            "      dtype='object')\n"
          ]
        }
      ]
    },
    {
      "cell_type": "code",
      "source": [
        "# Selecting column excluding 'Series_reference'(assuming they're non-numeric)\n",
        "cols_to_use = ['Data_value','Period', 'STATUS', 'UNITS', 'Subject', 'Group', 'Series_title_1']\n",
        "\n",
        "# Extract data with selected columns\n",
        "data2_selected = data2[cols_to_use]\n",
        "\n",
        "# Select categorical columns\n",
        "categorical_cols = [ 'STATUS', 'UNITS', 'Subject', 'Group', 'Series_title_1']\n",
        "\n",
        "# Perform one-hot encoding on categorical columns\n",
        "data_encoded1 = pd.get_dummies(data2_selected, columns=categorical_cols)\n",
        "\n",
        "# Data preprocessing and transformation (example: dropping missing values)\n",
        "data_encoded1.dropna(inplace=True)\n",
        "\n",
        "# Assuming the dataset has a target column named 'Data_value' and features columns after encoding\n",
        "features_encoded = data_encoded1.drop('Data_value', axis=1)\n",
        "target_encoded = data_encoded1['Data_value']\n",
        "\n",
        "# Split the dataset into training and testing sets\n",
        "X_train_encoded, X_test_encoded, y_train_encoded, y_test_encoded = train_test_split(\n",
        "    features_encoded, target_encoded, test_size=0.2, random_state=42\n",
        ")\n",
        "\n",
        "# Initialize a machine learning model (Random Forest Regressor in this case)\n",
        "model = RandomForestRegressor()\n",
        "\n",
        "# Train the model\n",
        "model.fit(X_train_encoded, y_train_encoded)\n",
        "\n",
        "# Make predictions\n",
        "predictions = model.predict(X_test_encoded)\n",
        "\n",
        "# Evaluate the model\n",
        "mse = mean_squared_error(y_test_encoded, predictions)\n",
        "print(f\"Mean Squared Error: {mse}\")\n"
      ],
      "metadata": {
        "id": "F66hyQ6KUNjK",
        "colab": {
          "base_uri": "https://localhost:8080/"
        },
        "outputId": "a59214c7-f1c6-4da0-923b-5574bc915d74"
      },
      "execution_count": 23,
      "outputs": [
        {
          "output_type": "stream",
          "name": "stdout",
          "text": [
            "Mean Squared Error: 4566.505978147908\n"
          ]
        }
      ]
    },
    {
      "cell_type": "code",
      "source": [
        "print(data_encoded.columns)"
      ],
      "metadata": {
        "colab": {
          "base_uri": "https://localhost:8080/"
        },
        "id": "gLw0db--QGWe",
        "outputId": "20112b64-dc80-4c27-a97e-d3be14266246"
      },
      "execution_count": 24,
      "outputs": [
        {
          "output_type": "stream",
          "name": "stdout",
          "text": [
            "Index(['Selling_Price', 'Present_Price', 'Owner', 'Age', 'Fuel_Type_CNG',\n",
            "       'Fuel_Type_Diesel', 'Fuel_Type_Petrol', 'Seller_Type_Dealer',\n",
            "       'Seller_Type_Individual', 'Transmission_Automatic',\n",
            "       'Transmission_Manual', 'Usage_Category_Low', 'Usage_Category_Moderate',\n",
            "       'Usage_Category_High', 'Usage_Category_Very High'],\n",
            "      dtype='object')\n"
          ]
        }
      ]
    },
    {
      "cell_type": "code",
      "source": [
        "# Assuming your DataFrame is named 'data'\n",
        "summary_stats = data2.describe()\n",
        "print(summary_stats)\n"
      ],
      "metadata": {
        "id": "tD6wdLnIZwSj",
        "colab": {
          "base_uri": "https://localhost:8080/"
        },
        "outputId": "fba69652-ed39-4ac2-ffcb-7004f5f76c5b"
      },
      "execution_count": 25,
      "outputs": [
        {
          "output_type": "stream",
          "name": "stdout",
          "text": [
            "            Period   Data_value\n",
            "count  4244.000000  4244.000000\n",
            "mean   2014.406140   963.753596\n",
            "std       5.254114   126.821172\n",
            "min    1999.060000   624.000000\n",
            "25%    2010.060000   886.000000\n",
            "50%    2014.110000   978.500000\n",
            "75%    2019.040000  1030.000000\n",
            "max    2023.090000  1376.000000\n"
          ]
        }
      ]
    },
    {
      "cell_type": "code",
      "source": [
        "# Save the modified DataFrame back to a CSV file\n",
        "data2.to_csv('modified_food_price.csv', index=False)  # Specify a filename for the modified dataset"
      ],
      "metadata": {
        "id": "wsR4td3xc6ig"
      },
      "execution_count": 26,
      "outputs": []
    },
    {
      "cell_type": "code",
      "source": [
        "#loading the dataset into Database\n",
        "\n",
        "# Connect to an SQLite database (if it doesn't exist, it will be created)\n",
        "conn = sqlite3.connect('etl.db')\n",
        "\n",
        "\n",
        "\n",
        "data_encoded1.to_sql('food', conn, if_exists='replace', index=False)\n",
        "\n",
        "# Commit changes and close the connection\n",
        "conn.commit()\n",
        "conn.close()"
      ],
      "metadata": {
        "id": "kA75U40zeYaU"
      },
      "execution_count": 28,
      "outputs": []
    }
  ]
}